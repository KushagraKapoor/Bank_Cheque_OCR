{
 "cells": [
  {
   "cell_type": "code",
   "execution_count": 2,
   "metadata": {},
   "outputs": [
    {
     "name": "stderr",
     "output_type": "stream",
     "text": [
      "'apt' is not recognized as an internal or external command,\n",
      "operable program or batch file.\n"
     ]
    }
   ],
   "source": [
    "! apt install tesseract-ocr\n"
   ]
  },
  {
   "cell_type": "code",
   "execution_count": 6,
   "metadata": {},
   "outputs": [
    {
     "ename": "error",
     "evalue": "OpenCV(4.10.0) D:\\a\\opencv-python\\opencv-python\\opencv\\modules\\imgproc\\src\\color.cpp:196: error: (-215:Assertion failed) !_src.empty() in function 'cv::cvtColor'\n",
     "output_type": "error",
     "traceback": [
      "\u001b[1;31m---------------------------------------------------------------------------\u001b[0m",
      "\u001b[1;31merror\u001b[0m                                     Traceback (most recent call last)",
      "Cell \u001b[1;32mIn[6], line 75\u001b[0m\n\u001b[0;32m     72\u001b[0m     \u001b[38;5;28mprint\u001b[39m(\u001b[38;5;124m\"\u001b[39m\u001b[38;5;130;01m\\n\u001b[39;00m\u001b[38;5;124mSignature Present:\u001b[39m\u001b[38;5;124m\"\u001b[39m, signature_present)\n\u001b[0;32m     74\u001b[0m \u001b[38;5;28;01mif\u001b[39;00m \u001b[38;5;18m__name__\u001b[39m \u001b[38;5;241m==\u001b[39m \u001b[38;5;124m\"\u001b[39m\u001b[38;5;124m__main__\u001b[39m\u001b[38;5;124m\"\u001b[39m:\n\u001b[1;32m---> 75\u001b[0m     \u001b[43mmain\u001b[49m\u001b[43m(\u001b[49m\u001b[43m)\u001b[49m\n",
      "Cell \u001b[1;32mIn[6], line 62\u001b[0m, in \u001b[0;36mmain\u001b[1;34m()\u001b[0m\n\u001b[0;32m     60\u001b[0m \u001b[38;5;28;01mdef\u001b[39;00m \u001b[38;5;21mmain\u001b[39m():\n\u001b[0;32m     61\u001b[0m     cheque_image_path \u001b[38;5;241m=\u001b[39m \u001b[38;5;124m'\u001b[39m\u001b[38;5;124mcheque.jepg\u001b[39m\u001b[38;5;124m'\u001b[39m\n\u001b[1;32m---> 62\u001b[0m     image \u001b[38;5;241m=\u001b[39m \u001b[43mpreprocess_image\u001b[49m\u001b[43m(\u001b[49m\u001b[43mcheque_image_path\u001b[49m\u001b[43m)\u001b[49m\n\u001b[0;32m     63\u001b[0m     text \u001b[38;5;241m=\u001b[39m extract_text(image)\n\u001b[0;32m     64\u001b[0m     info \u001b[38;5;241m=\u001b[39m extract_information(text)\n",
      "Cell \u001b[1;32mIn[6], line 12\u001b[0m, in \u001b[0;36mpreprocess_image\u001b[1;34m(image_path)\u001b[0m\n\u001b[0;32m     10\u001b[0m image \u001b[38;5;241m=\u001b[39m cv2\u001b[38;5;241m.\u001b[39mimread(image_path)\n\u001b[0;32m     11\u001b[0m \u001b[38;5;66;03m# Convert to grayscale\u001b[39;00m\n\u001b[1;32m---> 12\u001b[0m gray \u001b[38;5;241m=\u001b[39m \u001b[43mcv2\u001b[49m\u001b[38;5;241;43m.\u001b[39;49m\u001b[43mcvtColor\u001b[49m\u001b[43m(\u001b[49m\u001b[43mimage\u001b[49m\u001b[43m,\u001b[49m\u001b[43m \u001b[49m\u001b[43mcv2\u001b[49m\u001b[38;5;241;43m.\u001b[39;49m\u001b[43mCOLOR_BGR2GRAY\u001b[49m\u001b[43m)\u001b[49m\n\u001b[0;32m     13\u001b[0m \u001b[38;5;66;03m# Apply thresholding for better OCR results\u001b[39;00m\n\u001b[0;32m     14\u001b[0m _, thresh \u001b[38;5;241m=\u001b[39m cv2\u001b[38;5;241m.\u001b[39mthreshold(gray, \u001b[38;5;241m150\u001b[39m, \u001b[38;5;241m255\u001b[39m, cv2\u001b[38;5;241m.\u001b[39mTHRESH_BINARY)\n",
      "\u001b[1;31merror\u001b[0m: OpenCV(4.10.0) D:\\a\\opencv-python\\opencv-python\\opencv\\modules\\imgproc\\src\\color.cpp:196: error: (-215:Assertion failed) !_src.empty() in function 'cv::cvtColor'\n"
     ]
    }
   ],
   "source": [
    "import cv2\n",
    "import pytesseract\n",
    "pytesseract.pytesseract.tesseract_cmd = r'C:\\Program Files\\Tesseract-OCR\\tesseract.exe'\n",
    "\n",
    "from PIL import Image\n",
    "import re\n",
    "\n",
    "def preprocess_image(image_path):\n",
    "    # Load the image\n",
    "    image = cv2.imread(image_path)\n",
    "    # Convert to grayscale\n",
    "    gray = cv2.cvtColor(image, cv2.COLOR_BGR2GRAY)\n",
    "    # Apply thresholding for better OCR results\n",
    "    _, thresh = cv2.threshold(gray, 150, 255, cv2.THRESH_BINARY)\n",
    "    return thresh\n",
    "\n",
    "def extract_text(image):\n",
    "    # Perform OCR on the image\n",
    "    text = pytesseract.image_to_string(image)\n",
    "    return text\n",
    "\n",
    "def extract_information(text):\n",
    "    # Extract relevant information using regular expressions or keyword searches\n",
    "    info = {}\n",
    "\n",
    "    # Example regex patterns for extracting cheque details\n",
    "    cheque_number_pattern = re.compile(r'Cheque Number:?\\s*(\\d+)')\n",
    "    date_pattern = re.compile(r'Date:?\\s*(\\d{2}/\\d{2}/\\d{4})')\n",
    "    payee_pattern = re.compile(r'Pay to the Order of:? (.+)')\n",
    "    amount_pattern = re.compile(r'(\\d+,\\d+\\.\\d{2}|\\d+\\.\\d{2})')\n",
    "\n",
    "    # Extract using regex\n",
    "    cheque_number = cheque_number_pattern.search(text)\n",
    "    date = date_pattern.search(text)\n",
    "    payee = payee_pattern.search(text)\n",
    "    amount = amount_pattern.search(text)\n",
    "\n",
    "    if cheque_number:\n",
    "        info['Cheque Number'] = cheque_number.group(1)\n",
    "    if date:\n",
    "        info['Date'] = date.group(1)\n",
    "    if payee:\n",
    "        info['Payee'] = payee.group(1).strip()\n",
    "    if amount:\n",
    "        info['Amount'] = amount.group(1)\n",
    "\n",
    "    return info\n",
    "\n",
    "def check_signature(image):\n",
    "    # Assuming the signature is in the bottom right corner of the cheque\n",
    "    height, width = image.shape\n",
    "    signature_region = image[int(height*0.7):height, int(width*0.6):width]\n",
    "\n",
    "    # Perform OCR on the signature region\n",
    "    signature_text = pytesseract.image_to_string(signature_region)\n",
    "\n",
    "    # Check for presence of signature\n",
    "    return bool(signature_text.strip())\n",
    "\n",
    "def main():\n",
    "    cheque_image_path = 'cheque.jepg'\n",
    "    image = preprocess_image(cheque_image_path)\n",
    "    text = extract_text(image)\n",
    "    info = extract_information(text)\n",
    "    signature_present = check_signature(image)\n",
    "\n",
    "    # Display the results\n",
    "    print(\"Extracted Information:\")\n",
    "    for key, value in info.items():\n",
    "        print(f\"{key}: {value}\")\n",
    "    \n",
    "    print(\"\\nSignature Present:\", signature_present)\n",
    "\n",
    "if __name__ == \"__main__\":\n",
    "    main()\n"
   ]
  },
  {
   "cell_type": "code",
   "execution_count": null,
   "metadata": {},
   "outputs": [],
   "source": []
  }
 ],
 "metadata": {
  "kernelspec": {
   "display_name": "Python 3",
   "language": "python",
   "name": "python3"
  },
  "language_info": {
   "codemirror_mode": {
    "name": "ipython",
    "version": 3
   },
   "file_extension": ".py",
   "mimetype": "text/x-python",
   "name": "python",
   "nbconvert_exporter": "python",
   "pygments_lexer": "ipython3",
   "version": "3.12.4"
  }
 },
 "nbformat": 4,
 "nbformat_minor": 2
}
